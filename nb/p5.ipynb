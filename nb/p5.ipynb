{
 "cells": [
  {
   "cell_type": "code",
   "execution_count": 1,
   "id": "c4bfc603-37c9-4210-8d07-52d2fc7573fd",
   "metadata": {},
   "outputs": [],
   "source": [
    "# Name: Zhonghao Liu"
   ]
  },
  {
   "cell_type": "code",
   "execution_count": 2,
   "id": "7b42035c-2c8f-4eaf-865b-c5fc1913d414",
   "metadata": {},
   "outputs": [],
   "source": [
    "! hdfs dfs -D dfs.replication=1 -cp -f data/*.csv hdfs://nn:9000/"
   ]
  },
  {
   "cell_type": "code",
   "execution_count": 3,
   "id": "0a97a729-2569-4f6d-af8a-7841dac6c0ed",
   "metadata": {},
   "outputs": [
    {
     "name": "stdout",
     "output_type": "stream",
     "text": [
      "Found 22 items\n",
      "-rw-r--r--   1 root supergroup        328 2023-11-09 18:22 hdfs://nn:9000/action_taken.csv\n",
      "-rw-r--r--   1 root supergroup        317 2023-11-09 18:22 hdfs://nn:9000/agency.csv\n",
      "-rw-r--r--   1 root supergroup     533472 2023-11-09 18:22 hdfs://nn:9000/arid2017_to_lei_xref_csv.csv\n",
      "-rw-r--r--   1 root supergroup     319092 2023-11-09 18:22 hdfs://nn:9000/counties.csv\n",
      "-rw-r--r--   1 root supergroup        237 2023-11-09 18:22 hdfs://nn:9000/denial_reason.csv\n",
      "-rw-r--r--   1 root supergroup        109 2023-11-09 18:22 hdfs://nn:9000/edit_status.csv\n",
      "-rw-r--r--   1 root supergroup        180 2023-11-09 18:22 hdfs://nn:9000/ethnicity.csv\n",
      "-rw-r--r--   1 root supergroup  174944099 2023-11-09 18:22 hdfs://nn:9000/hdma-wi-2021.csv\n",
      "-rw-r--r--   1 root supergroup         41 2023-11-09 18:22 hdfs://nn:9000/hoepa.csv\n",
      "-rw-r--r--   1 root supergroup        114 2023-11-09 18:22 hdfs://nn:9000/lien_status.csv\n",
      "-rw-r--r--   1 root supergroup         65 2023-11-09 18:22 hdfs://nn:9000/loan_purpose.csv\n",
      "-rw-r--r--   1 root supergroup         79 2023-11-09 18:22 hdfs://nn:9000/loan_type.csv\n",
      "-rw-r--r--   1 root supergroup     132689 2023-11-09 18:22 hdfs://nn:9000/msamd.csv\n",
      "-rw-r--r--   1 root supergroup        122 2023-11-09 18:22 hdfs://nn:9000/owner_occupancy.csv\n",
      "-rw-r--r--   1 root supergroup         92 2023-11-09 18:23 hdfs://nn:9000/preapproval.csv\n",
      "-rw-r--r--   1 root supergroup        127 2023-11-09 18:23 hdfs://nn:9000/property_type.csv\n",
      "-rw-r--r--   1 root supergroup        387 2023-11-09 18:23 hdfs://nn:9000/purchaser_type.csv\n",
      "-rw-r--r--   1 root supergroup        252 2023-11-09 18:23 hdfs://nn:9000/race.csv\n",
      "-rw-r--r--   1 root supergroup        144 2023-11-09 18:23 hdfs://nn:9000/sex.csv\n",
      "-rw-r--r--   1 root supergroup        955 2023-11-09 18:23 hdfs://nn:9000/states.csv\n",
      "-rw-r--r--   1 root supergroup    2733350 2023-11-09 18:23 hdfs://nn:9000/tracts.csv\n",
      "drwxr-xr-x   - root supergroup          0 2023-11-09 18:17 hdfs://nn:9000/user\n"
     ]
    }
   ],
   "source": [
    "! hdfs dfs -ls hdfs://nn:9000/"
   ]
  },
  {
   "cell_type": "code",
   "execution_count": 4,
   "id": "1b9c2fa9-5df3-4115-96cc-7ac1122bb01b",
   "metadata": {},
   "outputs": [
    {
     "name": "stderr",
     "output_type": "stream",
     "text": [
      "Setting default log level to \"WARN\".\n",
      "To adjust logging level use sc.setLogLevel(newLevel). For SparkR, use setLogLevel(newLevel).\n",
      "23/11/09 18:23:10 WARN NativeCodeLoader: Unable to load native-hadoop library for your platform... using builtin-java classes where applicable\n"
     ]
    }
   ],
   "source": [
    "from pyspark.sql import SparkSession\n",
    "spark = (SparkSession.builder.appName(\"cs544\")\n",
    "         .master(\"spark://boss:7077\")\n",
    "         .config(\"spark.executor.memory\", \"512M\")\n",
    "         .config(\"spark.sql.warehouse.dir\", \"hdfs://nn:9000/user/hive/warehouse\")\n",
    "         .enableHiveSupport()\n",
    "         .getOrCreate())"
   ]
  },
  {
   "cell_type": "markdown",
   "id": "f57f8baf-c4d6-4a46-9881-f8fb44fe1d96",
   "metadata": {},
   "source": [
    "# Part 1"
   ]
  },
  {
   "cell_type": "markdown",
   "id": "fd8149c1-b635-40f6-b19c-6320003c9014",
   "metadata": {},
   "source": [
    "### Q1: how many banks contain the word \"first\" in their name, ignoring case? Use an RDD to answer."
   ]
  },
  {
   "cell_type": "code",
   "execution_count": 5,
   "id": "4e4004c4-b5fc-4f9f-9cf1-93b2aaa23515",
   "metadata": {},
   "outputs": [
    {
     "name": "stderr",
     "output_type": "stream",
     "text": [
      "                                                                                \r"
     ]
    }
   ],
   "source": [
    "# TODO: modify to treat the first row as a header\n",
    "# TODO: modify to infer the schema\n",
    "banks_df = (spark.read.format(\"csv\")\n",
    "            .option(\"header\", True)\n",
    "            .option(\"inferSchema\", True)\n",
    "            .load(\"hdfs://nn:9000/arid2017_to_lei_xref_csv.csv\"))"
   ]
  },
  {
   "cell_type": "code",
   "execution_count": 6,
   "id": "dcf74786-41a7-407a-9d7b-892dd11a1570",
   "metadata": {},
   "outputs": [
    {
     "name": "stderr",
     "output_type": "stream",
     "text": [
      "                                                                                \r"
     ]
    },
    {
     "data": {
      "text/plain": [
       "'First National Bank'"
      ]
     },
     "execution_count": 6,
     "metadata": {},
     "output_type": "execute_result"
    }
   ],
   "source": [
    "rows = banks_df.rdd.take(3)\n",
    "rows[0]['respondent_name']"
   ]
  },
  {
   "cell_type": "code",
   "execution_count": 7,
   "id": "07e728f2-c8d6-456f-bdcb-b1e02803dbc9",
   "metadata": {},
   "outputs": [
    {
     "name": "stderr",
     "output_type": "stream",
     "text": [
      "                                                                                \r"
     ]
    },
    {
     "data": {
      "text/plain": [
       "525"
      ]
     },
     "execution_count": 7,
     "metadata": {},
     "output_type": "execute_result"
    }
   ],
   "source": [
    "#q1\n",
    "banks_df.rdd.filter(lambda x: (\"first\" in x['respondent_name'].lower())).count()"
   ]
  },
  {
   "cell_type": "markdown",
   "id": "7b60f4a4-5668-48ce-a331-502e5e881a21",
   "metadata": {},
   "source": [
    "### Q2: how many banks contain the word \"first\" in their name, ignoring case? Use a DataFrame to answer."
   ]
  },
  {
   "cell_type": "code",
   "execution_count": 8,
   "id": "d58a77f5-2181-4a59-818c-e617365ed456",
   "metadata": {},
   "outputs": [
    {
     "name": "stderr",
     "output_type": "stream",
     "text": [
      "                                                                                \r"
     ]
    },
    {
     "data": {
      "text/plain": [
       "525"
      ]
     },
     "execution_count": 8,
     "metadata": {},
     "output_type": "execute_result"
    }
   ],
   "source": [
    "#q2\n",
    "\n",
    "# References:\n",
    "# https://spark.apache.org/docs/latest/api/python/reference/pyspark.sql/api/pyspark.sql.DataFrame.filter.html\n",
    "# https://www.w3schools.com/sql/sql_like.asp\n",
    "# https://www.w3schools.com/sql/func_sqlserver_lower.asp\n",
    "\n",
    "from pyspark.sql.functions import expr, col\n",
    "banks_df.select(col(\"respondent_name\")).filter(\"LOWER(respondent_name) LIKE '%first%'\").count()"
   ]
  },
  {
   "cell_type": "markdown",
   "id": "f0ffc795-8aec-4fa9-99a6-a5b564d2c315",
   "metadata": {},
   "source": [
    "### Q3: how many banks contain the word \"first\" in their name, ignoring case? Use Spark SQL to answer."
   ]
  },
  {
   "cell_type": "code",
   "execution_count": 9,
   "id": "82ee9445-0029-45d4-9292-3f2d631214da",
   "metadata": {},
   "outputs": [
    {
     "name": "stderr",
     "output_type": "stream",
     "text": [
      "23/11/09 18:23:49 WARN HiveConf: HiveConf of name hive.stats.jdbc.timeout does not exist\n",
      "23/11/09 18:23:49 WARN HiveConf: HiveConf of name hive.stats.retries.wait does not exist\n",
      "23/11/09 18:23:53 WARN ObjectStore: Version information not found in metastore. hive.metastore.schema.verification is not enabled so recording the schema version 2.3.0\n",
      "23/11/09 18:23:53 WARN ObjectStore: setMetaStoreSchemaVersion called but recording version is disabled: version = 2.3.0, comment = Set by MetaStore UNKNOWN@172.20.0.2\n",
      "23/11/09 18:23:54 WARN ObjectStore: Failed to get database global_temp, returning NoSuchObjectException\n",
      "23/11/09 18:23:59 WARN SessionState: METASTORE_FILTER_HOOK will be ignored, since hive.security.authorization.manager is set to instance of HiveAuthorizerFactory.\n",
      "23/11/09 18:23:59 WARN HiveConf: HiveConf of name hive.internal.ss.authz.settings.applied.marker does not exist\n",
      "23/11/09 18:23:59 WARN HiveConf: HiveConf of name hive.stats.jdbc.timeout does not exist\n",
      "23/11/09 18:23:59 WARN HiveConf: HiveConf of name hive.stats.retries.wait does not exist\n",
      "                                                                                \r"
     ]
    },
    {
     "data": {
      "text/plain": [
       "525"
      ]
     },
     "execution_count": 9,
     "metadata": {},
     "output_type": "execute_result"
    }
   ],
   "source": [
    "#q3\n",
    "banks_df.write.saveAsTable(\"banks\", mode=\"overwrite\")\n",
    "spark.sql(\"SELECT COUNT(*) FROM banks WHERE LOWER(respondent_name) LIKE '%first%'\").toPandas()['count(1)'][0]"
   ]
  },
  {
   "cell_type": "markdown",
   "id": "a2bb192c-894d-46f3-98e4-e3a368f0ed94",
   "metadata": {},
   "source": [
    "# Part 2"
   ]
  },
  {
   "cell_type": "markdown",
   "id": "6cfd5e2d-b6e2-4815-a4ee-60757dff39fd",
   "metadata": {},
   "source": [
    "### Q4: what tables are in our warehouse?"
   ]
  },
  {
   "cell_type": "code",
   "execution_count": 10,
   "id": "f74d7aa7-5daf-4011-af08-cc1398f47755",
   "metadata": {},
   "outputs": [],
   "source": [
    "# spark.catalog.dropTempView(\"banks\")"
   ]
  },
  {
   "cell_type": "code",
   "execution_count": 11,
   "id": "002f35fb-2397-44c6-bd7f-78a317a290a0",
   "metadata": {},
   "outputs": [
    {
     "name": "stdout",
     "output_type": "stream",
     "text": [
      "+---------+---------+-----------+\n",
      "|namespace|tableName|isTemporary|\n",
      "+---------+---------+-----------+\n",
      "|  default|    banks|      false|\n",
      "|  default|    loans|      false|\n",
      "+---------+---------+-----------+\n",
      "\n"
     ]
    }
   ],
   "source": [
    "spark.sql(\"SHOW TABLES\").show()"
   ]
  },
  {
   "cell_type": "code",
   "execution_count": 12,
   "id": "bd409e75-5370-42e2-af0c-1e3523f8ae02",
   "metadata": {},
   "outputs": [
    {
     "name": "stderr",
     "output_type": "stream",
     "text": [
      "                                                                                \r"
     ]
    }
   ],
   "source": [
    "loans_df = (spark.read.format(\"csv\")\n",
    "            .option(\"header\", True)\n",
    "            .option(\"inferSchema\", True)\n",
    "            .load(\"hdfs://nn:9000/hdma-wi-2021.csv\"))"
   ]
  },
  {
   "cell_type": "code",
   "execution_count": 13,
   "id": "fd1aa90b-36f2-46b9-8146-3e480258633a",
   "metadata": {},
   "outputs": [
    {
     "name": "stderr",
     "output_type": "stream",
     "text": [
      "23/11/09 18:24:15 WARN SparkStringUtils: Truncated the string representation of a plan since it was too large. This behavior can be adjusted by setting 'spark.sql.debug.maxToStringFields'.\n",
      "                                                                                \r"
     ]
    }
   ],
   "source": [
    "# Reference:\n",
    "# https://spark.apache.org/docs/3.1.1/api/python/reference/api/pyspark.sql.DataFrameWriter.bucketBy.html\n",
    "\n",
    "(loans_df.write.format('parquet')  \n",
    "    .bucketBy(8, 'county_code')\n",
    "    .mode(\"overwrite\")\n",
    "    .saveAsTable('loans'))"
   ]
  },
  {
   "cell_type": "code",
   "execution_count": 14,
   "id": "26ece062-f438-41d8-b56a-cf56ad5179ad",
   "metadata": {},
   "outputs": [
    {
     "name": "stdout",
     "output_type": "stream",
     "text": [
      "+---------+---------+-----------+\n",
      "|namespace|tableName|isTemporary|\n",
      "+---------+---------+-----------+\n",
      "|  default|    banks|      false|\n",
      "|  default|    loans|      false|\n",
      "+---------+---------+-----------+\n",
      "\n"
     ]
    }
   ],
   "source": [
    "spark.sql(\"SHOW TABLES\").show()"
   ]
  },
  {
   "cell_type": "code",
   "execution_count": 15,
   "id": "1c24ddb6-96d8-4235-b8e5-f9d4cd31110f",
   "metadata": {},
   "outputs": [],
   "source": [
    "views = [\"ethnicity\", \"race\", \"sex\", \"states\", \"counties\", \"tracts\", \"action_taken\", \"denial_reason\", \"loan_type\", \"loan_purpose\", \"preapproval\", \"property_type\"]\n",
    "for v in views:\n",
    "    (spark.read.format(\"csv\")\n",
    "        .option(\"header\", True)\n",
    "        .option(\"inferSchema\", True)\n",
    "        .load(f\"hdfs://nn:9000/{v}.csv\").createOrReplaceTempView(v))"
   ]
  },
  {
   "cell_type": "code",
   "execution_count": 16,
   "id": "49d56ed9-9e33-4182-8b2e-9e5042d42f7d",
   "metadata": {},
   "outputs": [
    {
     "data": {
      "text/plain": [
       "{'banks': False,\n",
       " 'loans': False,\n",
       " 'action_taken': True,\n",
       " 'counties': True,\n",
       " 'denial_reason': True,\n",
       " 'ethnicity': True,\n",
       " 'loan_purpose': True,\n",
       " 'loan_type': True,\n",
       " 'preapproval': True,\n",
       " 'property_type': True,\n",
       " 'race': True,\n",
       " 'sex': True,\n",
       " 'states': True,\n",
       " 'tracts': True}"
      ]
     },
     "execution_count": 16,
     "metadata": {},
     "output_type": "execute_result"
    }
   ],
   "source": [
    "#q4\n",
    "\n",
    "tables = spark.sql(\"SHOW TABLES\").toPandas()\n",
    "dict = {}\n",
    "for i in range(len(tables)):\n",
    "    curr_table = tables['tableName'][i]\n",
    "    curr_temp = tables['isTemporary'][i]\n",
    "    dict[curr_table] = curr_temp\n",
    "dict"
   ]
  },
  {
   "cell_type": "markdown",
   "id": "3bd3e0e7-ea7d-4c3c-849c-69ea65747613",
   "metadata": {},
   "source": [
    "### Q5: how many loan applications has the bank \"University of Wisconsin Credit Union\" received in 2020 in this dataset?"
   ]
  },
  {
   "cell_type": "code",
   "execution_count": 17,
   "id": "6754f6d9-79ce-4770-bbed-86fd7543ef3c",
   "metadata": {},
   "outputs": [
    {
     "name": "stderr",
     "output_type": "stream",
     "text": [
      "                                                                                \r"
     ]
    },
    {
     "data": {
      "text/html": [
       "<div>\n",
       "<style scoped>\n",
       "    .dataframe tbody tr th:only-of-type {\n",
       "        vertical-align: middle;\n",
       "    }\n",
       "\n",
       "    .dataframe tbody tr th {\n",
       "        vertical-align: top;\n",
       "    }\n",
       "\n",
       "    .dataframe thead th {\n",
       "        text-align: right;\n",
       "    }\n",
       "</style>\n",
       "<table border=\"1\" class=\"dataframe\">\n",
       "  <thead>\n",
       "    <tr style=\"text-align: right;\">\n",
       "      <th></th>\n",
       "      <th>respondent_name</th>\n",
       "      <th>arid_2017</th>\n",
       "      <th>lei_2018</th>\n",
       "      <th>lei_2019</th>\n",
       "      <th>lei_2020</th>\n",
       "    </tr>\n",
       "  </thead>\n",
       "  <tbody>\n",
       "    <tr>\n",
       "      <th>0</th>\n",
       "      <td>First National Bank</td>\n",
       "      <td>110004</td>\n",
       "      <td>5493003EW6T31TGECO83</td>\n",
       "      <td>5493003EW6T31TGECO83</td>\n",
       "      <td>5493003EW6T31TGECO83</td>\n",
       "    </tr>\n",
       "    <tr>\n",
       "      <th>1</th>\n",
       "      <td>First Mid Bank &amp; Trust, National Association</td>\n",
       "      <td>110045</td>\n",
       "      <td>549300XOTES5TCS8T794</td>\n",
       "      <td>549300XOTES5TCS8T794</td>\n",
       "      <td>549300XOTES5TCS8T794</td>\n",
       "    </tr>\n",
       "    <tr>\n",
       "      <th>2</th>\n",
       "      <td>First Hope Bank, A National Banking Association</td>\n",
       "      <td>110118</td>\n",
       "      <td>5493003XLOX5FDT9R120</td>\n",
       "      <td>5493003XLOX5FDT9R120</td>\n",
       "      <td>5493003XLOX5FDT9R120</td>\n",
       "    </tr>\n",
       "  </tbody>\n",
       "</table>\n",
       "</div>"
      ],
      "text/plain": [
       "                                   respondent_name arid_2017  \\\n",
       "0                              First National Bank    110004   \n",
       "1     First Mid Bank & Trust, National Association    110045   \n",
       "2  First Hope Bank, A National Banking Association    110118   \n",
       "\n",
       "               lei_2018              lei_2019              lei_2020  \n",
       "0  5493003EW6T31TGECO83  5493003EW6T31TGECO83  5493003EW6T31TGECO83  \n",
       "1  549300XOTES5TCS8T794  549300XOTES5TCS8T794  549300XOTES5TCS8T794  \n",
       "2  5493003XLOX5FDT9R120  5493003XLOX5FDT9R120  5493003XLOX5FDT9R120  "
      ]
     },
     "execution_count": 17,
     "metadata": {},
     "output_type": "execute_result"
    }
   ],
   "source": [
    "spark.sql(\"SELECT * FROM banks LIMIT 3\").toPandas()"
   ]
  },
  {
   "cell_type": "code",
   "execution_count": 18,
   "id": "c1fa500e-037a-44b5-b8a6-94fc93df20d9",
   "metadata": {},
   "outputs": [
    {
     "name": "stderr",
     "output_type": "stream",
     "text": [
      "                                                                                \r"
     ]
    },
    {
     "data": {
      "text/plain": [
       "19739"
      ]
     },
     "execution_count": 18,
     "metadata": {},
     "output_type": "execute_result"
    }
   ],
   "source": [
    "#q5\n",
    "\n",
    "spark.sql(\"\"\"\n",
    "SELECT COUNT(*) FROM banks\n",
    "INNER JOIN loans ON banks.lei_2020 = loans.lei\n",
    "WHERE respondent_name = 'University of Wisconsin Credit Union'\n",
    "\"\"\").toPandas()['count(1)'][0]"
   ]
  },
  {
   "cell_type": "code",
   "execution_count": 19,
   "id": "e9746fe3-c1e8-4868-87e9-7910324d6926",
   "metadata": {},
   "outputs": [
    {
     "name": "stdout",
     "output_type": "stream",
     "text": [
      "== Physical Plan ==\n",
      "AdaptiveSparkPlan (12)\n",
      "+- HashAggregate (11)\n",
      "   +- Exchange (10)\n",
      "      +- HashAggregate (9)\n",
      "         +- Project (8)\n",
      "            +- BroadcastHashJoin Inner BuildLeft (7)\n",
      "               :- BroadcastExchange (4)\n",
      "               :  +- Project (3)\n",
      "               :     +- Filter (2)\n",
      "               :        +- Scan parquet spark_catalog.default.banks (1)\n",
      "               +- Filter (6)\n",
      "                  +- Scan parquet spark_catalog.default.loans (5)\n",
      "\n",
      "\n",
      "(1) Scan parquet spark_catalog.default.banks\n",
      "Output [2]: [respondent_name#62, lei_2020#66]\n",
      "Batched: true\n",
      "Location: InMemoryFileIndex [hdfs://nn:9000/user/hive/warehouse/banks]\n",
      "PushedFilters: [IsNotNull(respondent_name), EqualTo(respondent_name,University of Wisconsin Credit Union), IsNotNull(lei_2020)]\n",
      "ReadSchema: struct<respondent_name:string,lei_2020:string>\n",
      "\n",
      "(2) Filter\n",
      "Input [2]: [respondent_name#62, lei_2020#66]\n",
      "Condition : ((isnotnull(respondent_name#62) AND (respondent_name#62 = University of Wisconsin Credit Union)) AND isnotnull(lei_2020#66))\n",
      "\n",
      "(3) Project\n",
      "Output [1]: [lei_2020#66]\n",
      "Input [2]: [respondent_name#62, lei_2020#66]\n",
      "\n",
      "(4) BroadcastExchange\n",
      "Input [1]: [lei_2020#66]\n",
      "Arguments: HashedRelationBroadcastMode(List(input[0, string, true]),false), [plan_id=647]\n",
      "\n",
      "(5) Scan parquet spark_catalog.default.loans\n",
      "Output [1]: [lei#1048]\n",
      "Batched: true\n",
      "Bucketed: false (bucket column(s) not read)\n",
      "Location: InMemoryFileIndex [hdfs://nn:9000/user/hive/warehouse/loans]\n",
      "PushedFilters: [IsNotNull(lei)]\n",
      "ReadSchema: struct<lei:string>\n",
      "\n",
      "(6) Filter\n",
      "Input [1]: [lei#1048]\n",
      "Condition : isnotnull(lei#1048)\n",
      "\n",
      "(7) BroadcastHashJoin\n",
      "Left keys [1]: [lei_2020#66]\n",
      "Right keys [1]: [lei#1048]\n",
      "Join type: Inner\n",
      "Join condition: None\n",
      "\n",
      "(8) Project\n",
      "Output: []\n",
      "Input [2]: [lei_2020#66, lei#1048]\n",
      "\n",
      "(9) HashAggregate\n",
      "Input: []\n",
      "Keys: []\n",
      "Functions [1]: [partial_count(1)]\n",
      "Aggregate Attributes [1]: [count#1154L]\n",
      "Results [1]: [count#1155L]\n",
      "\n",
      "(10) Exchange\n",
      "Input [1]: [count#1155L]\n",
      "Arguments: SinglePartition, ENSURE_REQUIREMENTS, [plan_id=652]\n",
      "\n",
      "(11) HashAggregate\n",
      "Input [1]: [count#1155L]\n",
      "Keys: []\n",
      "Functions [1]: [count(1)]\n",
      "Aggregate Attributes [1]: [count(1)#1151L]\n",
      "Results [1]: [count(1)#1151L AS count(1)#1152L]\n",
      "\n",
      "(12) AdaptiveSparkPlan\n",
      "Output [1]: [count(1)#1152L]\n",
      "Arguments: isFinalPlan=false\n",
      "\n",
      "\n"
     ]
    }
   ],
   "source": [
    "#q6\n",
    "\n",
    "spark.sql(\"\"\"\n",
    "SELECT COUNT(*) FROM banks\n",
    "INNER JOIN loans ON banks.lei_2020 = loans.lei\n",
    "WHERE respondent_name = 'University of Wisconsin Credit Union'\n",
    "\"\"\").explain(\"formatted\")"
   ]
  },
  {
   "cell_type": "markdown",
   "id": "ecbe81ef-ef5b-4ab5-805e-7f102c7e2807",
   "metadata": {},
   "source": [
    "### Q6 explanations\n",
    "### 1. Which table is sent to every executor via a `BroadcastExchange` operation?\n",
    "For the sole `(4) BroadcastExchange`, since its input as well as its output reflected in `(3) Project` involves the `lei_2020` column, the `loans` table is sent.\n",
    "### 2. Does the plan involve `HashAggregate`s (depending on how you write the query, it may or may not)? If so, which ones?\n",
    "Two `HashAggregate`s are involved. For `(11)` it is a regular count referring to the `COUNT(*)` at the first line of query. For `(9)`it is a partial count. Based on the following operations `(8)` and `(7)`, `(9)` is involved in the `INNER JOIN` at the second line of query."
   ]
  },
  {
   "cell_type": "markdown",
   "id": "b5ecbef5-eb63-49c0-879f-3691b9c3b4c3",
   "metadata": {},
   "source": [
    "# Part 3"
   ]
  },
  {
   "cell_type": "markdown",
   "id": "73e563d7-dc7a-4ff2-b623-204f4ecca31a",
   "metadata": {},
   "source": [
    "### Q7: what are the average interest rates for Wells Fargo applications for the ten counties where Wells Fargo receives the most applications?"
   ]
  },
  {
   "cell_type": "code",
   "execution_count": 20,
   "id": "39480a83-aec8-4486-9142-d933eb701df6",
   "metadata": {},
   "outputs": [
    {
     "data": {
      "text/plain": [
       "array(['respondent_name', 'arid_2017', 'lei_2018', 'lei_2019', 'lei_2020'],\n",
       "      dtype=object)"
      ]
     },
     "execution_count": 20,
     "metadata": {},
     "output_type": "execute_result"
    }
   ],
   "source": [
    "spark.sql(\"SELECT * FROM banks LIMIT 3\").toPandas().columns.values"
   ]
  },
  {
   "cell_type": "code",
   "execution_count": 21,
   "id": "5e8d2c33-926f-4e00-b6da-2f1a089bc191",
   "metadata": {},
   "outputs": [
    {
     "data": {
      "text/plain": [
       "array(['activity_year', 'lei', 'derived_msa-md', 'state_code',\n",
       "       'county_code', 'census_tract', 'conforming_loan_limit',\n",
       "       'derived_loan_product_type', 'derived_dwelling_category',\n",
       "       'derived_ethnicity', 'derived_race', 'derived_sex', 'action_taken',\n",
       "       'purchaser_type', 'preapproval', 'loan_type', 'loan_purpose',\n",
       "       'lien_status', 'reverse_mortgage', 'open-end_line_of_credit',\n",
       "       'business_or_commercial_purpose', 'loan_amount',\n",
       "       'loan_to_value_ratio', 'interest_rate', 'rate_spread',\n",
       "       'hoepa_status', 'total_loan_costs', 'total_points_and_fees',\n",
       "       'origination_charges', 'discount_points', 'lender_credits',\n",
       "       'loan_term', 'prepayment_penalty_term', 'intro_rate_period',\n",
       "       'negative_amortization', 'interest_only_payment',\n",
       "       'balloon_payment', 'other_nonamortizing_features',\n",
       "       'property_value', 'construction_method', 'occupancy_type',\n",
       "       'manufactured_home_secured_property_type',\n",
       "       'manufactured_home_land_property_interest', 'total_units',\n",
       "       'multifamily_affordable_units', 'income', 'debt_to_income_ratio',\n",
       "       'applicant_credit_score_type', 'co-applicant_credit_score_type',\n",
       "       'applicant_ethnicity-1', 'applicant_ethnicity-2',\n",
       "       'applicant_ethnicity-3', 'applicant_ethnicity-4',\n",
       "       'applicant_ethnicity-5', 'co-applicant_ethnicity-1',\n",
       "       'co-applicant_ethnicity-2', 'co-applicant_ethnicity-3',\n",
       "       'co-applicant_ethnicity-4', 'co-applicant_ethnicity-5',\n",
       "       'applicant_ethnicity_observed', 'co-applicant_ethnicity_observed',\n",
       "       'applicant_race-1', 'applicant_race-2', 'applicant_race-3',\n",
       "       'applicant_race-4', 'applicant_race-5', 'co-applicant_race-1',\n",
       "       'co-applicant_race-2', 'co-applicant_race-3',\n",
       "       'co-applicant_race-4', 'co-applicant_race-5',\n",
       "       'applicant_race_observed', 'co-applicant_race_observed',\n",
       "       'applicant_sex', 'co-applicant_sex', 'applicant_sex_observed',\n",
       "       'co-applicant_sex_observed', 'applicant_age', 'co-applicant_age',\n",
       "       'applicant_age_above_62', 'co-applicant_age_above_62',\n",
       "       'submission_of_application', 'initially_payable_to_institution',\n",
       "       'aus-1', 'aus-2', 'aus-3', 'aus-4', 'aus-5', 'denial_reason-1',\n",
       "       'denial_reason-2', 'denial_reason-3', 'denial_reason-4',\n",
       "       'tract_population', 'tract_minority_population_percent',\n",
       "       'ffiec_msa_md_median_family_income',\n",
       "       'tract_to_msa_income_percentage', 'tract_owner_occupied_units',\n",
       "       'tract_one_to_four_family_homes',\n",
       "       'tract_median_age_of_housing_units'], dtype=object)"
      ]
     },
     "execution_count": 21,
     "metadata": {},
     "output_type": "execute_result"
    }
   ],
   "source": [
    "spark.sql(\"SELECT * FROM loans LIMIT 3\").toPandas().columns.values"
   ]
  },
  {
   "cell_type": "code",
   "execution_count": 22,
   "id": "66e57921-f054-4d6c-ada8-9f9e9a275cc9",
   "metadata": {},
   "outputs": [
    {
     "data": {
      "text/html": [
       "<div>\n",
       "<style scoped>\n",
       "    .dataframe tbody tr th:only-of-type {\n",
       "        vertical-align: middle;\n",
       "    }\n",
       "\n",
       "    .dataframe tbody tr th {\n",
       "        vertical-align: top;\n",
       "    }\n",
       "\n",
       "    .dataframe thead th {\n",
       "        text-align: right;\n",
       "    }\n",
       "</style>\n",
       "<table border=\"1\" class=\"dataframe\">\n",
       "  <thead>\n",
       "    <tr style=\"text-align: right;\">\n",
       "      <th></th>\n",
       "      <th>AREA</th>\n",
       "      <th>PERIMETER</th>\n",
       "      <th>CO99_D00_</th>\n",
       "      <th>CO99_D00_I</th>\n",
       "      <th>STATE</th>\n",
       "      <th>COUNTY</th>\n",
       "      <th>NAME</th>\n",
       "      <th>LSAD</th>\n",
       "      <th>LSAD_TRANS</th>\n",
       "    </tr>\n",
       "  </thead>\n",
       "  <tbody>\n",
       "    <tr>\n",
       "      <th>0</th>\n",
       "      <td>52.91341</td>\n",
       "      <td>60.56496</td>\n",
       "      <td>2.0</td>\n",
       "      <td>1.0</td>\n",
       "      <td>2</td>\n",
       "      <td>185</td>\n",
       "      <td>North Slope</td>\n",
       "      <td>4</td>\n",
       "      <td>Borough</td>\n",
       "    </tr>\n",
       "  </tbody>\n",
       "</table>\n",
       "</div>"
      ],
      "text/plain": [
       "       AREA  PERIMETER  CO99_D00_  CO99_D00_I  STATE  COUNTY         NAME  \\\n",
       "0  52.91341   60.56496        2.0         1.0      2     185  North Slope   \n",
       "\n",
       "   LSAD LSAD_TRANS  \n",
       "0     4    Borough  "
      ]
     },
     "execution_count": 22,
     "metadata": {},
     "output_type": "execute_result"
    }
   ],
   "source": [
    "spark.sql(\"SELECT * FROM counties LIMIT 1\").toPandas()"
   ]
  },
  {
   "cell_type": "code",
   "execution_count": 23,
   "id": "8f9d3066-1958-4ac2-9a0a-eb6203695f1d",
   "metadata": {},
   "outputs": [
    {
     "name": "stderr",
     "output_type": "stream",
     "text": [
      "                                                                                \r"
     ]
    }
   ],
   "source": [
    "topten = spark.sql(\"\"\"\n",
    "SELECT NAME, COUNT(*) AS count, AVG(interest_rate) AS avg_rate\n",
    "FROM (\n",
    "    SELECT county_code, interest_rate FROM loans\n",
    "    INNER JOIN banks ON loans.lei = banks.lei_2020\n",
    "    WHERE respondent_name LIKE \"Wells Fargo%\"\n",
    ") AS new_table\n",
    "INNER JOIN counties ON new_table.county_code = counties.STATE*1000 + counties.COUNTY\n",
    "GROUP BY counties.NAME\n",
    "ORDER BY count DESC\n",
    "LIMIT 10\n",
    "\"\"\").toPandas()"
   ]
  },
  {
   "cell_type": "code",
   "execution_count": 24,
   "id": "cc8e5789-ebc9-40fc-830a-8b8cf650249e",
   "metadata": {},
   "outputs": [
    {
     "data": {
      "text/html": [
       "<div>\n",
       "<style scoped>\n",
       "    .dataframe tbody tr th:only-of-type {\n",
       "        vertical-align: middle;\n",
       "    }\n",
       "\n",
       "    .dataframe tbody tr th {\n",
       "        vertical-align: top;\n",
       "    }\n",
       "\n",
       "    .dataframe thead th {\n",
       "        text-align: right;\n",
       "    }\n",
       "</style>\n",
       "<table border=\"1\" class=\"dataframe\">\n",
       "  <thead>\n",
       "    <tr style=\"text-align: right;\">\n",
       "      <th></th>\n",
       "      <th>NAME</th>\n",
       "      <th>count</th>\n",
       "      <th>avg_rate</th>\n",
       "    </tr>\n",
       "  </thead>\n",
       "  <tbody>\n",
       "    <tr>\n",
       "      <th>0</th>\n",
       "      <td>Milwaukee</td>\n",
       "      <td>2164</td>\n",
       "      <td>3.117347</td>\n",
       "    </tr>\n",
       "    <tr>\n",
       "      <th>1</th>\n",
       "      <td>Waukesha</td>\n",
       "      <td>1832</td>\n",
       "      <td>2.875823</td>\n",
       "    </tr>\n",
       "    <tr>\n",
       "      <th>2</th>\n",
       "      <td>Washington</td>\n",
       "      <td>748</td>\n",
       "      <td>2.851009</td>\n",
       "    </tr>\n",
       "    <tr>\n",
       "      <th>3</th>\n",
       "      <td>Dane</td>\n",
       "      <td>729</td>\n",
       "      <td>2.890675</td>\n",
       "    </tr>\n",
       "    <tr>\n",
       "      <th>4</th>\n",
       "      <td>Brown</td>\n",
       "      <td>663</td>\n",
       "      <td>3.010949</td>\n",
       "    </tr>\n",
       "    <tr>\n",
       "      <th>5</th>\n",
       "      <td>Racine</td>\n",
       "      <td>537</td>\n",
       "      <td>3.099784</td>\n",
       "    </tr>\n",
       "    <tr>\n",
       "      <th>6</th>\n",
       "      <td>Outagamie</td>\n",
       "      <td>513</td>\n",
       "      <td>2.979662</td>\n",
       "    </tr>\n",
       "    <tr>\n",
       "      <th>7</th>\n",
       "      <td>Winnebago</td>\n",
       "      <td>402</td>\n",
       "      <td>3.028476</td>\n",
       "    </tr>\n",
       "    <tr>\n",
       "      <th>8</th>\n",
       "      <td>Ozaukee</td>\n",
       "      <td>389</td>\n",
       "      <td>2.867377</td>\n",
       "    </tr>\n",
       "    <tr>\n",
       "      <th>9</th>\n",
       "      <td>Sheboygan</td>\n",
       "      <td>307</td>\n",
       "      <td>2.995511</td>\n",
       "    </tr>\n",
       "  </tbody>\n",
       "</table>\n",
       "</div>"
      ],
      "text/plain": [
       "         NAME  count  avg_rate\n",
       "0   Milwaukee   2164  3.117347\n",
       "1    Waukesha   1832  2.875823\n",
       "2  Washington    748  2.851009\n",
       "3        Dane    729  2.890675\n",
       "4       Brown    663  3.010949\n",
       "5      Racine    537  3.099784\n",
       "6   Outagamie    513  2.979662\n",
       "7   Winnebago    402  3.028476\n",
       "8     Ozaukee    389  2.867377\n",
       "9   Sheboygan    307  2.995511"
      ]
     },
     "execution_count": 24,
     "metadata": {},
     "output_type": "execute_result"
    }
   ],
   "source": [
    "topten"
   ]
  },
  {
   "cell_type": "code",
   "execution_count": 25,
   "id": "376855f1-1cf0-4873-adf6-ec9b9bd8e52d",
   "metadata": {},
   "outputs": [
    {
     "data": {
      "text/plain": [
       "{'Milwaukee': 3.1173465727097907,\n",
       " 'Waukesha': 2.8758225602027756,\n",
       " 'Washington': 2.851009389671362,\n",
       " 'Dane': 2.890674955595027,\n",
       " 'Brown': 3.010949119373777,\n",
       " 'Racine': 3.099783715012723,\n",
       " 'Outagamie': 2.979661835748792,\n",
       " 'Winnebago': 3.0284761904761908,\n",
       " 'Ozaukee': 2.8673765432098772,\n",
       " 'Sheboygan': 2.995511111111111}"
      ]
     },
     "execution_count": 25,
     "metadata": {},
     "output_type": "execute_result"
    }
   ],
   "source": [
    "#q7\n",
    "dict = {}\n",
    "for i in range(len(topten['NAME'])):\n",
    "    dict[topten['NAME'][i]] = topten['avg_rate'][i]\n",
    "dict"
   ]
  },
  {
   "cell_type": "code",
   "execution_count": 26,
   "id": "470af1ab-22fa-4c07-bf40-bf2262a57606",
   "metadata": {},
   "outputs": [
    {
     "data": {
      "image/png": "[encoded data removed]",
      "text/plain": [
       "<Figure size 640x480 with 1 Axes>"
      ]
     },
     "metadata": {},
     "output_type": "display_data"
    }
   ],
   "source": [
    "# create bar chart\n",
    "# References: \n",
    "# https://stackoverflow.com/questions/16010869/plot-a-bar-using-matplotlib-using-a-dictionary\n",
    "# https://stackoverflow.com/questions/47447220/how-to-label-x-axis-using-python-matplotlib\n",
    "# https://www.geeksforgeeks.org/how-to-rotate-x-axis-tick-label-text-in-matplotlib/#\n",
    "\n",
    "import matplotlib.pyplot as plt\n",
    "\n",
    "plt.bar(*zip(*dict.items()))\n",
    "plt.xlabel('Name')\n",
    "plt.ylabel('Average Interest Rate')\n",
    "plt.xticks(rotation = 45)\n",
    "plt.show()"
   ]
  },
  {
   "cell_type": "markdown",
   "id": "aec4487a-c6f2-44de-bf75-ea27e68eb0a8",
   "metadata": {},
   "source": [
    "### Q8: when computing a MEAN aggregate per group of loans, under what situation (when) do we require network I/O between the partial_mean and mean operations?"
   ]
  },
  {
   "cell_type": "code",
   "execution_count": 27,
   "id": "1a179ddb-c461-4062-8b58-e6663228efa8",
   "metadata": {},
   "outputs": [
    {
     "name": "stdout",
     "output_type": "stream",
     "text": [
      "== Physical Plan ==\n",
      "AdaptiveSparkPlan (5)\n",
      "+- HashAggregate (4)\n",
      "   +- Exchange (3)\n",
      "      +- HashAggregate (2)\n",
      "         +- Scan parquet spark_catalog.default.loans (1)\n",
      "\n",
      "\n",
      "(1) Scan parquet spark_catalog.default.loans\n",
      "Output [2]: [lei#1048, income#1092]\n",
      "Batched: true\n",
      "Bucketed: false (bucket column(s) not read)\n",
      "Location: InMemoryFileIndex [hdfs://nn:9000/user/hive/warehouse/loans]\n",
      "ReadSchema: struct<lei:string,income:string>\n",
      "\n",
      "(2) HashAggregate\n",
      "Input [2]: [lei#1048, income#1092]\n",
      "Keys [1]: [lei#1048]\n",
      "Functions [1]: [partial_mean(cast(income#1092 as double))]\n",
      "Aggregate Attributes [2]: [sum#1304, count#1305L]\n",
      "Results [3]: [lei#1048, sum#1306, count#1307L]\n",
      "\n",
      "(3) Exchange\n",
      "Input [3]: [lei#1048, sum#1306, count#1307L]\n",
      "Arguments: hashpartitioning(lei#1048, 200), ENSURE_REQUIREMENTS, [plan_id=966]\n",
      "\n",
      "(4) HashAggregate\n",
      "Input [3]: [lei#1048, sum#1306, count#1307L]\n",
      "Keys [1]: [lei#1048]\n",
      "Functions [1]: [mean(cast(income#1092 as double))]\n",
      "Aggregate Attributes [1]: [mean(cast(income#1092 as double))#1300]\n",
      "Results [2]: [lei#1048, mean(cast(income#1092 as double))#1300 AS mean(income)#1301]\n",
      "\n",
      "(5) AdaptiveSparkPlan\n",
      "Output [2]: [lei#1048, mean(income)#1301]\n",
      "Arguments: isFinalPlan=false\n",
      "\n",
      "\n"
     ]
    }
   ],
   "source": [
    "spark.sql(\"\"\"\n",
    "SELECT lei, MEAN(income)\n",
    "FROM loans\n",
    "GROUP BY lei\n",
    "\"\"\").explain(\"formatted\")"
   ]
  },
  {
   "cell_type": "code",
   "execution_count": 28,
   "id": "df483750-5f92-4496-9ad1-24f332909789",
   "metadata": {},
   "outputs": [
    {
     "name": "stdout",
     "output_type": "stream",
     "text": [
      "== Physical Plan ==\n",
      "AdaptiveSparkPlan (4)\n",
      "+- HashAggregate (3)\n",
      "   +- HashAggregate (2)\n",
      "      +- Scan parquet spark_catalog.default.loans (1)\n",
      "\n",
      "\n",
      "(1) Scan parquet spark_catalog.default.loans\n",
      "Output [2]: [county_code#1051, income#1092]\n",
      "Batched: true\n",
      "Bucketed: true\n",
      "Location: InMemoryFileIndex [hdfs://nn:9000/user/hive/warehouse/loans]\n",
      "ReadSchema: struct<county_code:string,income:string>\n",
      "SelectedBucketsCount: 8 out of 8\n",
      "\n",
      "(2) HashAggregate\n",
      "Input [2]: [county_code#1051, income#1092]\n",
      "Keys [1]: [county_code#1051]\n",
      "Functions [1]: [partial_mean(cast(income#1092 as double))]\n",
      "Aggregate Attributes [2]: [sum#1312, count#1313L]\n",
      "Results [3]: [county_code#1051, sum#1314, count#1315L]\n",
      "\n",
      "(3) HashAggregate\n",
      "Input [3]: [county_code#1051, sum#1314, count#1315L]\n",
      "Keys [1]: [county_code#1051]\n",
      "Functions [1]: [mean(cast(income#1092 as double))]\n",
      "Aggregate Attributes [1]: [mean(cast(income#1092 as double))#1308]\n",
      "Results [2]: [county_code#1051, mean(cast(income#1092 as double))#1308 AS mean(income)#1309]\n",
      "\n",
      "(4) AdaptiveSparkPlan\n",
      "Output [2]: [county_code#1051, mean(income)#1309]\n",
      "Arguments: isFinalPlan=false\n",
      "\n",
      "\n"
     ]
    }
   ],
   "source": [
    "spark.sql(\"\"\"\n",
    "SELECT county_code, MEAN(income)\n",
    "FROM loans\n",
    "GROUP BY county_code\n",
    "\"\"\").explain(\"formatted\")"
   ]
  },
  {
   "cell_type": "code",
   "execution_count": 29,
   "id": "7697db72-20b4-4aaf-b8b1-736eacadbf16",
   "metadata": {},
   "outputs": [
    {
     "name": "stdout",
     "output_type": "stream",
     "text": [
      "== Physical Plan ==\n",
      "AdaptiveSparkPlan (4)\n",
      "+- HashAggregate (3)\n",
      "   +- HashAggregate (2)\n",
      "      +- Scan parquet spark_catalog.default.loans (1)\n",
      "\n",
      "\n",
      "(1) Scan parquet spark_catalog.default.loans\n",
      "Output [3]: [lei#1048, county_code#1051, income#1092]\n",
      "Batched: true\n",
      "Bucketed: true\n",
      "Location: InMemoryFileIndex [hdfs://nn:9000/user/hive/warehouse/loans]\n",
      "ReadSchema: struct<lei:string,county_code:string,income:string>\n",
      "SelectedBucketsCount: 8 out of 8\n",
      "\n",
      "(2) HashAggregate\n",
      "Input [3]: [lei#1048, county_code#1051, income#1092]\n",
      "Keys [2]: [lei#1048, county_code#1051]\n",
      "Functions [1]: [partial_mean(cast(income#1092 as double))]\n",
      "Aggregate Attributes [2]: [sum#1321, count#1322L]\n",
      "Results [4]: [lei#1048, county_code#1051, sum#1323, count#1324L]\n",
      "\n",
      "(3) HashAggregate\n",
      "Input [4]: [lei#1048, county_code#1051, sum#1323, count#1324L]\n",
      "Keys [2]: [lei#1048, county_code#1051]\n",
      "Functions [1]: [mean(cast(income#1092 as double))]\n",
      "Aggregate Attributes [1]: [mean(cast(income#1092 as double))#1316]\n",
      "Results [3]: [lei#1048, county_code#1051, mean(cast(income#1092 as double))#1316 AS mean(income)#1317]\n",
      "\n",
      "(4) AdaptiveSparkPlan\n",
      "Output [3]: [lei#1048, county_code#1051, mean(income)#1317]\n",
      "Arguments: isFinalPlan=false\n",
      "\n",
      "\n"
     ]
    }
   ],
   "source": [
    "spark.sql(\"\"\"\n",
    "SELECT lei, county_code, MEAN(income)\n",
    "FROM loans\n",
    "GROUP BY lei, county_code\n",
    "\"\"\").explain(\"formatted\")"
   ]
  },
  {
   "cell_type": "code",
   "execution_count": 30,
   "id": "d1e201b1-9fe6-4088-abd9-3395a1adfa7b",
   "metadata": {},
   "outputs": [
    {
     "name": "stdout",
     "output_type": "stream",
     "text": [
      "== Physical Plan ==\n",
      "AdaptiveSparkPlan (5)\n",
      "+- HashAggregate (4)\n",
      "   +- Exchange (3)\n",
      "      +- HashAggregate (2)\n",
      "         +- Scan parquet spark_catalog.default.loans (1)\n",
      "\n",
      "\n",
      "(1) Scan parquet spark_catalog.default.loans\n",
      "Output [3]: [lei#1048, interest_rate#1070, income#1092]\n",
      "Batched: true\n",
      "Bucketed: false (bucket column(s) not read)\n",
      "Location: InMemoryFileIndex [hdfs://nn:9000/user/hive/warehouse/loans]\n",
      "ReadSchema: struct<lei:string,interest_rate:string,income:string>\n",
      "\n",
      "(2) HashAggregate\n",
      "Input [3]: [lei#1048, interest_rate#1070, income#1092]\n",
      "Keys [2]: [lei#1048, interest_rate#1070]\n",
      "Functions [1]: [partial_mean(cast(income#1092 as double))]\n",
      "Aggregate Attributes [2]: [sum#1330, count#1331L]\n",
      "Results [4]: [lei#1048, interest_rate#1070, sum#1332, count#1333L]\n",
      "\n",
      "(3) Exchange\n",
      "Input [4]: [lei#1048, interest_rate#1070, sum#1332, count#1333L]\n",
      "Arguments: hashpartitioning(lei#1048, interest_rate#1070, 200), ENSURE_REQUIREMENTS, [plan_id=1001]\n",
      "\n",
      "(4) HashAggregate\n",
      "Input [4]: [lei#1048, interest_rate#1070, sum#1332, count#1333L]\n",
      "Keys [2]: [lei#1048, interest_rate#1070]\n",
      "Functions [1]: [mean(cast(income#1092 as double))]\n",
      "Aggregate Attributes [1]: [mean(cast(income#1092 as double))#1325]\n",
      "Results [3]: [lei#1048, interest_rate#1070, mean(cast(income#1092 as double))#1325 AS mean(income)#1326]\n",
      "\n",
      "(5) AdaptiveSparkPlan\n",
      "Output [3]: [lei#1048, interest_rate#1070, mean(income)#1326]\n",
      "Arguments: isFinalPlan=false\n",
      "\n",
      "\n"
     ]
    }
   ],
   "source": [
    "spark.sql(\"\"\"\n",
    "SELECT lei, interest_rate, MEAN(income)\n",
    "FROM loans\n",
    "GROUP BY lei, interest_rate\n",
    "\"\"\").explain(\"formatted\")"
   ]
  },
  {
   "cell_type": "code",
   "execution_count": 31,
   "id": "9bb82092-ee72-4460-9084-e6705ee96550",
   "metadata": {},
   "outputs": [],
   "source": [
    "#q8\n",
    "# Network I/O is represented as Exchange in the explanation.\n",
    "# Since loans is bucketed by 'county_code' when writing the table, it would be the only GROUP BY case without \n",
    "# network I/O as all work will be done inside the bucket while the results would be merged at the end.\n",
    "# GROUP BY with 'county_code' AND another one would also not need network I/O, e.g. GROUP BY lei, county_code\n",
    "# Any GROUP BY without 'county_code' requires network I/O, e.g. GROUP BY lei, interest_rate"
   ]
  },
  {
   "cell_type": "markdown",
   "id": "deb7e289-b4ea-4da2-9f1c-577615d444f2",
   "metadata": {},
   "source": [
    "# Part 4"
   ]
  },
  {
   "cell_type": "markdown",
   "id": "0f33b914-66e5-441f-9158-84b3d085dc53",
   "metadata": {},
   "source": [
    "### Q9. How many loans are approved (approval = 1) in the train DataFrame?"
   ]
  },
  {
   "cell_type": "code",
   "execution_count": 32,
   "id": "d700085f-8857-4fff-bdc6-79f1a41d6975",
   "metadata": {},
   "outputs": [
    {
     "data": {
      "text/html": [
       "<div>\n",
       "<style scoped>\n",
       "    .dataframe tbody tr th:only-of-type {\n",
       "        vertical-align: middle;\n",
       "    }\n",
       "\n",
       "    .dataframe tbody tr th {\n",
       "        vertical-align: top;\n",
       "    }\n",
       "\n",
       "    .dataframe thead th {\n",
       "        text-align: right;\n",
       "    }\n",
       "</style>\n",
       "<table border=\"1\" class=\"dataframe\">\n",
       "  <thead>\n",
       "    <tr style=\"text-align: right;\">\n",
       "      <th></th>\n",
       "      <th>id</th>\n",
       "      <th>action_taken</th>\n",
       "    </tr>\n",
       "  </thead>\n",
       "  <tbody>\n",
       "    <tr>\n",
       "      <th>0</th>\n",
       "      <td>1</td>\n",
       "      <td>Loan originated</td>\n",
       "    </tr>\n",
       "    <tr>\n",
       "      <th>1</th>\n",
       "      <td>2</td>\n",
       "      <td>Application approved but not accepted</td>\n",
       "    </tr>\n",
       "    <tr>\n",
       "      <th>2</th>\n",
       "      <td>3</td>\n",
       "      <td>Application denied by financial institution</td>\n",
       "    </tr>\n",
       "  </tbody>\n",
       "</table>\n",
       "</div>"
      ],
      "text/plain": [
       "   id                                 action_taken\n",
       "0   1                              Loan originated\n",
       "1   2        Application approved but not accepted\n",
       "2   3  Application denied by financial institution"
      ]
     },
     "execution_count": 32,
     "metadata": {},
     "output_type": "execute_result"
    }
   ],
   "source": [
    "spark.sql(\"SELECT * FROM action_taken LIMIT 3\").toPandas()"
   ]
  },
  {
   "cell_type": "code",
   "execution_count": 33,
   "id": "6007896d-ac3b-42d9-9c62-3289c639eb2f",
   "metadata": {},
   "outputs": [
    {
     "name": "stdout",
     "output_type": "stream",
     "text": [
      "+-----------+------+-------------+--------------------+\n",
      "|loan_amount|income|interest_rate|        action_taken|\n",
      "+-----------+------+-------------+--------------------+\n",
      "|   255000.0|   210|       Exempt|     Loan originated|\n",
      "|   435000.0|    NA|        3.125|Loan purchased by...|\n",
      "|   435000.0|   190|       Exempt|     Loan originated|\n",
      "|   165000.0|    NA|         3.25|Loan purchased by...|\n",
      "|   205000.0|    NA|       Exempt|     Loan originated|\n",
      "+-----------+------+-------------+--------------------+\n",
      "\n"
     ]
    }
   ],
   "source": [
    "spark.sql(\"\"\"\n",
    "SELECT loan_amount, income, interest_rate, action_taken.action_taken\n",
    "FROM loans\n",
    "INNER JOIN action_taken ON loans.action_taken = action_taken.id\n",
    "LIMIT 5\n",
    "\"\"\").show()"
   ]
  },
  {
   "cell_type": "code",
   "execution_count": 34,
   "id": "7ee3ce60-395e-4085-b16e-8a06ccaf8eb3",
   "metadata": {},
   "outputs": [
    {
     "name": "stderr",
     "output_type": "stream",
     "text": [
      "                                                                                \r"
     ]
    },
    {
     "data": {
      "text/html": [
       "<div>\n",
       "<style scoped>\n",
       "    .dataframe tbody tr th:only-of-type {\n",
       "        vertical-align: middle;\n",
       "    }\n",
       "\n",
       "    .dataframe tbody tr th {\n",
       "        vertical-align: top;\n",
       "    }\n",
       "\n",
       "    .dataframe thead th {\n",
       "        text-align: right;\n",
       "    }\n",
       "</style>\n",
       "<table border=\"1\" class=\"dataframe\">\n",
       "  <thead>\n",
       "    <tr style=\"text-align: right;\">\n",
       "      <th></th>\n",
       "      <th>loan_amount</th>\n",
       "      <th>income</th>\n",
       "      <th>interest_rate</th>\n",
       "      <th>approval</th>\n",
       "    </tr>\n",
       "  </thead>\n",
       "  <tbody>\n",
       "    <tr>\n",
       "      <th>0</th>\n",
       "      <td>255000.0</td>\n",
       "      <td>210.0</td>\n",
       "      <td>0.000</td>\n",
       "      <td>1.0</td>\n",
       "    </tr>\n",
       "    <tr>\n",
       "      <th>1</th>\n",
       "      <td>435000.0</td>\n",
       "      <td>0.0</td>\n",
       "      <td>3.125</td>\n",
       "      <td>0.0</td>\n",
       "    </tr>\n",
       "    <tr>\n",
       "      <th>2</th>\n",
       "      <td>435000.0</td>\n",
       "      <td>190.0</td>\n",
       "      <td>0.000</td>\n",
       "      <td>1.0</td>\n",
       "    </tr>\n",
       "    <tr>\n",
       "      <th>3</th>\n",
       "      <td>165000.0</td>\n",
       "      <td>0.0</td>\n",
       "      <td>3.250</td>\n",
       "      <td>0.0</td>\n",
       "    </tr>\n",
       "    <tr>\n",
       "      <th>4</th>\n",
       "      <td>205000.0</td>\n",
       "      <td>0.0</td>\n",
       "      <td>0.000</td>\n",
       "      <td>1.0</td>\n",
       "    </tr>\n",
       "    <tr>\n",
       "      <th>...</th>\n",
       "      <td>...</td>\n",
       "      <td>...</td>\n",
       "      <td>...</td>\n",
       "      <td>...</td>\n",
       "    </tr>\n",
       "    <tr>\n",
       "      <th>447362</th>\n",
       "      <td>25000.0</td>\n",
       "      <td>152.0</td>\n",
       "      <td>0.000</td>\n",
       "      <td>0.0</td>\n",
       "    </tr>\n",
       "    <tr>\n",
       "      <th>447363</th>\n",
       "      <td>15000.0</td>\n",
       "      <td>61.0</td>\n",
       "      <td>3.490</td>\n",
       "      <td>1.0</td>\n",
       "    </tr>\n",
       "    <tr>\n",
       "      <th>447364</th>\n",
       "      <td>15000.0</td>\n",
       "      <td>63.0</td>\n",
       "      <td>0.000</td>\n",
       "      <td>0.0</td>\n",
       "    </tr>\n",
       "    <tr>\n",
       "      <th>447365</th>\n",
       "      <td>35000.0</td>\n",
       "      <td>126.0</td>\n",
       "      <td>5.650</td>\n",
       "      <td>1.0</td>\n",
       "    </tr>\n",
       "    <tr>\n",
       "      <th>447366</th>\n",
       "      <td>35000.0</td>\n",
       "      <td>12.0</td>\n",
       "      <td>0.000</td>\n",
       "      <td>0.0</td>\n",
       "    </tr>\n",
       "  </tbody>\n",
       "</table>\n",
       "<p>447367 rows × 4 columns</p>\n",
       "</div>"
      ],
      "text/plain": [
       "        loan_amount  income  interest_rate  approval\n",
       "0          255000.0   210.0          0.000       1.0\n",
       "1          435000.0     0.0          3.125       0.0\n",
       "2          435000.0   190.0          0.000       1.0\n",
       "3          165000.0     0.0          3.250       0.0\n",
       "4          205000.0     0.0          0.000       1.0\n",
       "...             ...     ...            ...       ...\n",
       "447362      25000.0   152.0          0.000       0.0\n",
       "447363      15000.0    61.0          3.490       1.0\n",
       "447364      15000.0    63.0          0.000       0.0\n",
       "447365      35000.0   126.0          5.650       1.0\n",
       "447366      35000.0    12.0          0.000       0.0\n",
       "\n",
       "[447367 rows x 4 columns]"
      ]
     },
     "execution_count": 34,
     "metadata": {},
     "output_type": "execute_result"
    }
   ],
   "source": [
    "# References: \n",
    "# https://www.w3schools.com/SQL/func_mysql_case.asp\n",
    "# https://hf.co/chat/r/oh684_V\n",
    "# https://spark.apache.org/docs/latest/api/python/reference/pyspark.sql/api/pyspark.sql.Column.cast.html\n",
    "# https://sparkbyexamples.com/pyspark/pyspark-fillna-fill-replace-null-values/\n",
    "\n",
    "df = spark.sql(\"\"\"\n",
    "SELECT new_table.loan_amount, new_table.income, new_table.interest_rate, CASE WHEN new_table.action_taken = \"Loan originated\" THEN 1.0 ELSE 0.0 END AS approval\n",
    "FROM (\n",
    "    SELECT loan_amount, income, interest_rate, action_taken.action_taken\n",
    "    FROM loans\n",
    "    INNER JOIN action_taken ON loans.action_taken = action_taken.id\n",
    ") AS new_table\n",
    "\"\"\")\n",
    "df = df.select(df.loan_amount.cast(\"double\"), df.income.cast(\"double\"), df.interest_rate.cast(\"double\"), df.approval.cast(\"double\"))\n",
    "df = df.fillna(0.0, subset = None)\n",
    "df.toPandas()"
   ]
  },
  {
   "cell_type": "code",
   "execution_count": 35,
   "id": "1768b6f9-8d6f-455b-ae36-357871c8e2a0",
   "metadata": {},
   "outputs": [],
   "source": [
    "# deterministic split\n",
    "train, test = df.randomSplit([0.8, 0.2], seed=41) "
   ]
  },
  {
   "cell_type": "code",
   "execution_count": 36,
   "id": "4c071e4c-aa0a-47de-b305-e2ec6730b56e",
   "metadata": {},
   "outputs": [
    {
     "data": {
      "text/plain": [
       "DataFrame[loan_amount: double, income: double, interest_rate: double, approval: double]"
      ]
     },
     "execution_count": 36,
     "metadata": {},
     "output_type": "execute_result"
    }
   ],
   "source": [
    "train.cache()"
   ]
  },
  {
   "cell_type": "code",
   "execution_count": 37,
   "id": "0ed81062-fc82-45f0-8ba6-fff9f16bf96b",
   "metadata": {},
   "outputs": [
    {
     "name": "stderr",
     "output_type": "stream",
     "text": [
      "[Stage 57:=============================>                            (1 + 1) / 2]\r"
     ]
    },
    {
     "name": "stdout",
     "output_type": "stream",
     "text": [
      "+-----------+------+-------------+--------+\n",
      "|loan_amount|income|interest_rate|approval|\n",
      "+-----------+------+-------------+--------+\n",
      "|     5000.0|   0.0|          0.0|     0.0|\n",
      "|     5000.0|   0.0|          0.0|     0.0|\n",
      "|     5000.0|   0.0|          0.0|     0.0|\n",
      "|     5000.0|   0.0|          0.0|     0.0|\n",
      "|     5000.0|   0.0|          0.0|     0.0|\n",
      "|     5000.0|   0.0|          0.0|     0.0|\n",
      "|     5000.0|   0.0|          0.0|     0.0|\n",
      "|     5000.0|   0.0|          0.0|     0.0|\n",
      "|     5000.0|   0.0|          0.0|     0.0|\n",
      "|     5000.0|   0.0|          0.0|     0.0|\n",
      "|     5000.0|   0.0|          0.0|     0.0|\n",
      "|     5000.0|   0.0|          0.0|     0.0|\n",
      "|     5000.0|   0.0|          0.0|     0.0|\n",
      "|     5000.0|   0.0|          0.0|     0.0|\n",
      "|     5000.0|   0.0|          0.0|     0.0|\n",
      "|     5000.0|   0.0|          0.0|     0.0|\n",
      "|     5000.0|   0.0|          0.0|     0.0|\n",
      "|     5000.0|   0.0|          0.0|     0.0|\n",
      "|     5000.0|   0.0|          0.0|     0.0|\n",
      "|     5000.0|   0.0|          0.0|     0.0|\n",
      "+-----------+------+-------------+--------+\n",
      "only showing top 20 rows\n",
      "\n"
     ]
    },
    {
     "name": "stderr",
     "output_type": "stream",
     "text": [
      "                                                                                \r"
     ]
    }
   ],
   "source": [
    "train.show()"
   ]
  },
  {
   "cell_type": "code",
   "execution_count": 38,
   "id": "f8156ea0-d753-4106-851f-f2456b1da660",
   "metadata": {},
   "outputs": [
    {
     "name": "stderr",
     "output_type": "stream",
     "text": [
      "                                                                                \r"
     ]
    },
    {
     "data": {
      "text/plain": [
       "242868.0"
      ]
     },
     "execution_count": 38,
     "metadata": {},
     "output_type": "execute_result"
    }
   ],
   "source": [
    "#q9\n",
    "# Reference: https://sparkbyexamples.com/pyspark/pyspark-sum/\n",
    "\n",
    "from pyspark.sql.functions import sum\n",
    "train.select(sum(train.approval).alias(\"sum\")).toPandas()['sum'][0]"
   ]
  },
  {
   "cell_type": "code",
   "execution_count": 39,
   "id": "b676569d-6223-466b-9b85-37be089dd4e1",
   "metadata": {},
   "outputs": [
    {
     "name": "stderr",
     "output_type": "stream",
     "text": [
      "                                                                                \r"
     ]
    },
    {
     "name": "stdout",
     "output_type": "stream",
     "text": [
      "DecisionTreeClassificationModel: uid=DecisionTreeClassifier_2f55930ceb1e, depth=5, numNodes=23, numClasses=2, numFeatures=3\n",
      "  If (feature 2 <= 0.495)\n",
      "   If (feature 1 <= 0.5)\n",
      "    If (feature 0 <= 360000.0)\n",
      "     Predict: 0.0\n",
      "    Else (feature 0 > 360000.0)\n",
      "     If (feature 0 <= 500000.0)\n",
      "      Predict: 0.0\n",
      "     Else (feature 0 > 500000.0)\n",
      "      If (feature 1 <= -4.0)\n",
      "       Predict: 0.0\n",
      "      Else (feature 1 > -4.0)\n",
      "       Predict: 1.0\n",
      "   Else (feature 1 > 0.5)\n",
      "    Predict: 0.0\n",
      "  Else (feature 2 > 0.495)\n",
      "   If (feature 1 <= 0.5)\n",
      "    If (feature 2 <= 2.4995000000000003)\n",
      "     If (feature 0 <= 300000.0)\n",
      "      Predict: 1.0\n",
      "     Else (feature 0 > 300000.0)\n",
      "      If (feature 2 <= 2.245)\n",
      "       Predict: 0.0\n",
      "      Else (feature 2 > 2.245)\n",
      "       Predict: 1.0\n",
      "    Else (feature 2 > 2.4995000000000003)\n",
      "     If (feature 2 <= 3.8875)\n",
      "      If (feature 0 <= 140000.0)\n",
      "       Predict: 1.0\n",
      "      Else (feature 0 > 140000.0)\n",
      "       Predict: 0.0\n",
      "     Else (feature 2 > 3.8875)\n",
      "      Predict: 1.0\n",
      "   Else (feature 1 > 0.5)\n",
      "    Predict: 1.0\n",
      "\n"
     ]
    }
   ],
   "source": [
    "from pyspark.ml.regression import DecisionTreeRegressionModel\n",
    "from pyspark.ml.classification import DecisionTreeClassifier\n",
    "from pyspark.ml.feature import VectorAssembler\n",
    "from pyspark.ml.pipeline import Pipeline, PipelineModel\n",
    "\n",
    "va = VectorAssembler(inputCols=[\"loan_amount\", \"income\", \"interest_rate\"], outputCol=\"features\")\n",
    "dt = DecisionTreeClassifier(featuresCol=\"features\", labelCol=\"approval\")\n",
    "\n",
    "pipe = Pipeline(stages=[va, dt])\n",
    "model = pipe.fit(train)\n",
    "\n",
    "print(model.stages[1].toDebugString)"
   ]
  },
  {
   "cell_type": "code",
   "execution_count": 40,
   "id": "94bf0461-2072-40fa-8845-148cd8791412",
   "metadata": {},
   "outputs": [
    {
     "name": "stderr",
     "output_type": "stream",
     "text": [
      "[Stage 80:>                                                         (0 + 1) / 1]\r"
     ]
    },
    {
     "name": "stdout",
     "output_type": "stream",
     "text": [
      "+-----------+------+-------------+--------+------------------+-----------------+--------------------+----------+\n",
      "|loan_amount|income|interest_rate|approval|          features|    rawPrediction|         probability|prediction|\n",
      "+-----------+------+-------------+--------+------------------+-----------------+--------------------+----------+\n",
      "|     5000.0|   0.0|          0.0|     0.0|  [5000.0,0.0,0.0]|  [6666.0,1406.0]|[0.82581764122893...|       0.0|\n",
      "|     5000.0|   0.0|          0.0|     0.0|  [5000.0,0.0,0.0]|  [6666.0,1406.0]|[0.82581764122893...|       0.0|\n",
      "|     5000.0|   0.0|          0.0|     0.0|  [5000.0,0.0,0.0]|  [6666.0,1406.0]|[0.82581764122893...|       0.0|\n",
      "|     5000.0|   0.0|          0.0|     0.0|  [5000.0,0.0,0.0]|  [6666.0,1406.0]|[0.82581764122893...|       0.0|\n",
      "|     5000.0|   0.0|          0.0|     0.0|  [5000.0,0.0,0.0]|  [6666.0,1406.0]|[0.82581764122893...|       0.0|\n",
      "|     5000.0|   0.0|          0.0|     0.0|  [5000.0,0.0,0.0]|  [6666.0,1406.0]|[0.82581764122893...|       0.0|\n",
      "|     5000.0|   0.0|          0.0|     0.0|  [5000.0,0.0,0.0]|  [6666.0,1406.0]|[0.82581764122893...|       0.0|\n",
      "|     5000.0|   0.0|          0.0|     0.0|  [5000.0,0.0,0.0]|  [6666.0,1406.0]|[0.82581764122893...|       0.0|\n",
      "|     5000.0|   0.0|          0.0|     0.0|  [5000.0,0.0,0.0]|  [6666.0,1406.0]|[0.82581764122893...|       0.0|\n",
      "|     5000.0|   0.0|          0.0|     0.0|  [5000.0,0.0,0.0]|  [6666.0,1406.0]|[0.82581764122893...|       0.0|\n",
      "|     5000.0|   0.0|          0.0|     0.0|  [5000.0,0.0,0.0]|  [6666.0,1406.0]|[0.82581764122893...|       0.0|\n",
      "|     5000.0|   0.0|          0.0|     1.0|  [5000.0,0.0,0.0]|  [6666.0,1406.0]|[0.82581764122893...|       0.0|\n",
      "|     5000.0|   0.0|        3.125|     1.0|[5000.0,0.0,3.125]|  [2685.0,3074.0]|[0.46622677548185...|       1.0|\n",
      "|     5000.0|   0.0|        3.375|     0.0|[5000.0,0.0,3.375]|  [2685.0,3074.0]|[0.46622677548185...|       1.0|\n",
      "|     5000.0|   0.0|          3.5|     0.0|  [5000.0,0.0,3.5]|  [2685.0,3074.0]|[0.46622677548185...|       1.0|\n",
      "|     5000.0|   0.0|         4.99|     1.0| [5000.0,0.0,4.99]|  [1394.0,2285.0]|[0.37890731176950...|       1.0|\n",
      "|     5000.0|   0.0|         9.25|     1.0| [5000.0,0.0,9.25]|  [1394.0,2285.0]|[0.37890731176950...|       1.0|\n",
      "|     5000.0|   1.0|          0.0|     0.0|  [5000.0,1.0,0.0]|[77336.0,10364.0]|[0.88182440136830...|       0.0|\n",
      "|     5000.0|   3.0|          0.0|     0.0|  [5000.0,3.0,0.0]|[77336.0,10364.0]|[0.88182440136830...|       0.0|\n",
      "|     5000.0|   8.0|          0.0|     0.0|  [5000.0,8.0,0.0]|[77336.0,10364.0]|[0.88182440136830...|       0.0|\n",
      "+-----------+------+-------------+--------+------------------+-----------------+--------------------+----------+\n",
      "only showing top 20 rows\n",
      "\n"
     ]
    },
    {
     "name": "stderr",
     "output_type": "stream",
     "text": [
      "                                                                                \r"
     ]
    }
   ],
   "source": [
    "df2 = model.transform(test)\n",
    "df2.show()"
   ]
  },
  {
   "cell_type": "code",
   "execution_count": 41,
   "id": "5a29e770-9604-4383-a7ed-c0540a0879ac",
   "metadata": {},
   "outputs": [
    {
     "name": "stderr",
     "output_type": "stream",
     "text": [
      "                                                                                \r"
     ]
    },
    {
     "data": {
      "text/plain": [
       "0.8939992653524639"
      ]
     },
     "execution_count": 41,
     "metadata": {},
     "output_type": "execute_result"
    }
   ],
   "source": [
    "#q10\n",
    "# References:\n",
    "# https://sparkbyexamples.com/pyspark/pyspark-add-new-column-to-dataframe/\n",
    "# https://www.datasciencemadesimple.com/get-absolute-value-of-column-in-pyspark/\n",
    "# https://stackoverflow.com/questions/53642540/pyspark-sql-functions-abs-fails-with-pyspark-column-input\n",
    "# https://www.geeksforgeeks.org/get-number-of-rows-and-columns-of-pyspark-dataframe/#\n",
    "\n",
    "from pyspark.sql.functions import abs\n",
    "\n",
    "df3 = df2.withColumn(\"fail\", df2.approval - df2.prediction)\n",
    "df4 = df3.withColumn(\"abs\", abs(df3.fail))\n",
    "(df4.count() - df4.select(sum(df4.abs).alias(\"fails\")).toPandas()['fails'][0]) / df4.count()"
   ]
  },
  {
   "cell_type": "code",
   "execution_count": null,
   "id": "c71adf61-99fe-4709-b53d-0cadce33a29f",
   "metadata": {},
   "outputs": [],
   "source": []
  }
 ],
 "metadata": {
  "kernelspec": {
   "display_name": "Python 3 (ipykernel)",
   "language": "python",
   "name": "python3"
  },
  "language_info": {
   "codemirror_mode": {
    "name": "ipython",
    "version": 3
   },
   "file_extension": ".py",
   "mimetype": "text/x-python",
   "name": "python",
   "nbconvert_exporter": "python",
   "pygments_lexer": "ipython3",
   "version": "3.10.12"
  }
 },
 "nbformat": 4,
 "nbformat_minor": 5
}
